{
  "cells": [
    {
      "cell_type": "markdown",
      "metadata": {
        "id": "MruoSi4SYEJ_"
      },
      "source": [
        "# **Overview**\n",
        "\n",
        "Throughout this assignment, you will be performing specific well-defined tasks that’ll strengthen your concepts in data visualization. We will be using the 2021 world happiness report for the assignment and here is a brief context about the same - “The World Happiness Report 2021 focuses on the effects of COVID-19 and how people all over the world have fared. The objective of the report was two-fold, first to focus on the effects of COVID-19 on the structure and quality of people’s lives, and second to describe and evaluate how governments all over the world have dealt with the pandemic.”\n",
        "\n",
        "As part of the assignment, you will have to accomplish the below tasks.\n",
        "\n",
        "\n",
        "**Author:** Chintoo Kumar\n",
        "**Contributor:** Chanukya Patnaik"
      ]
    },
    {
      "cell_type": "markdown",
      "metadata": {
        "id": "Uk8brOm7YGYc"
      },
      "source": [
        "# **Dataset**\n",
        "Dataset Link: https://raw.githubusercontent.com/dphi-official/Datasets/master/world-happiness-report-2021.csv\n",
        "\n",
        "\n",
        "\n",
        "\n",
        "**About the dataset:**\n",
        "\n",
        "It contains data from 149 countries of the world. The dataset comprises 20 different attributes that provide information on each country's world happiness report scores for the year 2021. The happiness study ranks the nations of the world based on questions from the Gallup World Poll. The results are then correlated with other factors, including GDP and social security, etc.\n",
        "Data Description:\n",
        "\n",
        "* 'Country name': Name of the country.\n",
        "* 'Regional indicator': Region the country belongs to.\n",
        "* 'Ladder score': Changes in well-being. Happiness score or subjective well-being.\n",
        "* 'Standard error of ladder score': changes of well-being based on\n",
        "standard errors clustered at the country level. \n",
        "* 'upperwhisker':Age 60+\n",
        "* 'lowerwhisker':Age<30\n",
        "* 'Logged GDP per capita': Economic production of a country. The statistics of GDP per capita.\n",
        "* 'Social support':Social support (or having someone to count on in times of trouble) is the national\n",
        "average of the binary responses (either 0 or 1) to the GWP question “If you\n",
        "were in trouble, do you have relatives or friends you can count on to help you\n",
        "whenever you need them, or not?”\n",
        "* 'Healthy life expectancy':Rank of the country based on the Happiness Score.\n",
        "* 'Freedom to make life choices':The extent to which Freedom contributed to the calculation of the Happiness Score.\n",
        "* 'Generosity': Generosity is the residual of regressing national average of response to the GWP\n",
        "question “Have you donated money to a charity in the past month?” on GDP\n",
        "per capita.\n",
        "* 'Perceptions of corruption': Absence of corruption.\n",
        "* 'Ladder score in Dystopia': A social evil lead to inhumanized or fearful lives for the people.\n",
        "* 'Explained by: Log GDP per capita': explaining economic status of a country by comparings GDPs.\n",
        "* 'Explained by: Social support': social factors and social behaviors—including\n",
        "the quality and quantity of people’s social relationships—have also been shown to protect\n",
        "well-being during the pandemic.\n",
        "* 'Explained by: Healthy life expectancy': the objective benefits of happiness.\n",
        "* 'Explained by: Freedom to make life choices':  perceived freedom to make life choice.\n",
        "* 'Explained by: Generosity':  importance of ethics, policy implications, and links with the Organisation for Economic Co-operation and Development's (OECD) approach to measuring subjective well-being and other international and national efforts.\n",
        "* 'Explained by: Perceptions of corruption': Weight score due to involving in some kind of corruption by a country.\n",
        "* 'Dystopia + residual: psychological factors indicating some kinds of suffering in a society and lead to mental health problem."
      ]
    },
    {
      "cell_type": "markdown",
      "metadata": {
        "id": "6oy3crcsY9zn"
      },
      "source": [
        "# **Task 1: Data loading and Data Analysis**\n",
        "\n",
        "* Load the data file name it as: df1\n",
        "* Display the first 5 rows of the world-happiness-report-2021\n",
        "* Display the last 10 observations of the world-happiness-report-2021\n",
        "* Display a concise summary of the provided data and list out 2 observations/inferences that you observe from the result. You can use the info() method for this.\n",
        "* Display the descriptive statistics of the world-happiness-report-2021\n",
        "* Is there any missing values in each column of the provided dataset\n",
        "* How many unique countries are there in western europe\n",
        "* Display all the unique countries of western europe\n",
        "* Filter and display the world happiness report score for the country 'India' in year 2021\n",
        "\n",
        "\n"
      ]
    },
    {
      "cell_type": "code",
      "execution_count": 1,
      "metadata": {
        "colab": {
          "base_uri": "https://localhost:8080/"
        },
        "id": "LCNgY6HvNTlu",
        "outputId": "589b8279-3587-4e59-af26-979298f09b39"
      },
      "outputs": [
        {
          "name": "stdout",
          "output_type": "stream",
          "text": [
            "<class 'pandas.core.frame.DataFrame'>\n",
            "RangeIndex: 149 entries, 0 to 148\n",
            "Data columns (total 20 columns):\n",
            " #   Column                                      Non-Null Count  Dtype  \n",
            "---  ------                                      --------------  -----  \n",
            " 0   Country name                                149 non-null    object \n",
            " 1   Regional indicator                          149 non-null    object \n",
            " 2   Ladder score                                149 non-null    float64\n",
            " 3   Standard error of ladder score              149 non-null    float64\n",
            " 4   upperwhisker                                149 non-null    float64\n",
            " 5   lowerwhisker                                149 non-null    float64\n",
            " 6   Logged GDP per capita                       149 non-null    float64\n",
            " 7   Social support                              149 non-null    float64\n",
            " 8   Healthy life expectancy                     149 non-null    float64\n",
            " 9   Freedom to make life choices                149 non-null    float64\n",
            " 10  Generosity                                  149 non-null    float64\n",
            " 11  Perceptions of corruption                   149 non-null    float64\n",
            " 12  Ladder score in Dystopia                    149 non-null    float64\n",
            " 13  Explained by: Log GDP per capita            149 non-null    float64\n",
            " 14  Explained by: Social support                149 non-null    float64\n",
            " 15  Explained by: Healthy life expectancy       149 non-null    float64\n",
            " 16  Explained by: Freedom to make life choices  149 non-null    float64\n",
            " 17  Explained by: Generosity                    149 non-null    float64\n",
            " 18  Explained by: Perceptions of corruption     149 non-null    float64\n",
            " 19  Dystopia + residual                         149 non-null    float64\n",
            "dtypes: float64(18), object(2)\n",
            "memory usage: 23.4+ KB\n"
          ]
        },
        {
          "data": {
            "text/plain": [
              "array([3.819])"
            ]
          },
          "execution_count": 1,
          "metadata": {},
          "output_type": "execute_result"
        }
      ],
      "source": [
        "import pandas as pd\n",
        "import matplotlib.pyplot as plt\n",
        "\n",
        "#Load the data file name it as: df1\n",
        "df1 = pd.read_csv('https://raw.githubusercontent.com/dphi-official/Datasets/master/world-happiness-report-2021.csv')\n",
        "#Display the first 5 rows of the world-happiness-report-2021\n",
        "df1.head(5)\n",
        "#Display the last 10 observations of the world-happiness-report-2021\n",
        "df1.tail(10)\n",
        "#Display a concise summary of the provided data and list out 2 observations/inferences that you observe from the result. You can use the info() method for this.\n",
        "df1.info()\n",
        "#Display the descriptive statistics of the world-happiness-report-2021\n",
        "df1.describe()\n",
        "#Is there any missing values in each column of the provided dataset\n",
        "df1.isnull().values.any()\n",
        "#How many unique countries are there in western europe\n",
        "len(df1[df1['Regional indicator'] == 'Western Europe']['Country name'].unique())\n",
        "#Display all the unique countries of western europe\n",
        "df1[df1['Regional indicator'] == 'Western Europe']['Country name'].unique()\n",
        "#Filter and display the world happiness report score for the country 'India' in year 2021\n",
        "df1[df1['Country name'] == 'India']['Ladder score'].values"
      ]
    },
    {
      "cell_type": "markdown",
      "metadata": {
        "id": "W_6sDrM4ZXRv"
      },
      "source": [
        "# **Task2 : Visualization of results using Matplotlib library**\n",
        "\n",
        "* Display the data of top 5 east asian countries based on 'Generosity'\n",
        "* Build a plot (line plot) that shows the variation of 'Ladder score' among the above 5 east asian countries\n",
        "* Build a plot that shows the variation of 'Ladder score' among the above 5 south east asian countries\n",
        "* Create a dataframe object : df_2021 with the following countries: 'China', 'Nepal', 'Bangladesh', 'Pakistan', 'Myanmar', 'India', 'Afghanistan'. Now, build a scatter plot to show the relation these countries vs their 'Logged GDP per capita'"
      ]
    },
    {
      "cell_type": "code",
      "execution_count": 2,
      "metadata": {
        "colab": {
          "base_uri": "https://localhost:8080/",
          "height": 280
        },
        "id": "gNWIRtbHNUH9",
        "outputId": "b3a39389-e9da-465c-d8ad-aa6083c424b6"
      },
      "outputs": [],
      "source": [
        "import pandas as pd\n",
        "import matplotlib.pyplot as plt\n",
        "\n",
        "#Load the data file name it as: df2\n",
        "df = pd.read_csv('https://raw.githubusercontent.com/dphi-official/Datasets/master/world-happiness-report-2021.csv')\n",
        "\n",
        "#Display the data of top 5 east asian countries based on 'Generosity'\n",
        "df2 = df[df['Regional indicator']=='East Asia'].sort_values(by='Generosity', ascending=False)[0:5]\n",
        "df2\n",
        "\n",
        "#Build a plot (line plot) that shows the variation of 'Ladder score' among the above 5 east asian countries\n",
        "# plt.plot(df2[df2['Regional indicator']=='East Asia']['Country name'],df2[df2['Regional indicator']=='East Asia']['Ladder score'],'-bo')\n",
        "# plt.xticks(rotation=45)\n",
        "# plt.title('5 East Asia Country vs Ladder Score')\n",
        "# plt.show()\n",
        "\n",
        "#Build a plot that shows the variation of 'Ladder score' among the above 5 south east asian countries\n",
        "# plt.plot(df[df['Regional indicator']=='Southeast Asia']['Country name'][0:5],df[df['Regional indicator']=='Southeast Asia']['Ladder score'][0:5],'-bo')\n",
        "# plt.xticks(rotation=45)\n",
        "# plt.show()\n",
        "\n",
        "#Create a dataframe object : df_2021 with the following countries: 'China', 'Nepal', 'Bangladesh', 'Pakistan', 'Myanmar', 'India', 'Afghanistan'. Now, build a scatter plot to show the relation these countries vs their 'Logged GDP per capita'\n",
        "df_2021 = df[(df['Country name']=='China') | \n",
        "             (df['Country name']=='Nepal') | \n",
        "             (df['Country name']=='Bangladesh') | \n",
        "             (df['Country name']=='Pakistan') | \n",
        "             (df['Country name']=='Myanmar') | \n",
        "             (df['Country name']=='India') | \n",
        "             (df['Country name']=='Afghanistan')].sort_values(by='Logged GDP per capita')\n",
        "plt.scatter(df_2021['Country name'],df_2021['Logged GDP per capita'])\n",
        "plt.xticks(rotation=15)\n",
        "plt.show()"
      ]
    },
    {
      "cell_type": "markdown",
      "metadata": {
        "id": "uKfKW41kawI8"
      },
      "source": [
        "# **Scores**\n",
        "\n",
        "Each of the questions in both the tasks is of 1 mark each and the scores will be given accordingly after the notebook review."
      ]
    }
  ],
  "metadata": {
    "colab": {
      "collapsed_sections": [
        "MruoSi4SYEJ_",
        "Uk8brOm7YGYc"
      ],
      "name": "Data Visualization Bootcamp Final Assignment.ipynb",
      "provenance": []
    },
    "kernelspec": {
      "display_name": "Python 3",
      "name": "python3"
    },
    "language_info": {
      "codemirror_mode": {
        "name": "ipython",
        "version": 3
      },
      "file_extension": ".py",
      "mimetype": "text/x-python",
      "name": "python",
      "nbconvert_exporter": "python",
      "pygments_lexer": "ipython3",
      "version": "3.8.12"
    }
  },
  "nbformat": 4,
  "nbformat_minor": 0
}
