{
 "cells": [
  {
   "cell_type": "markdown",
   "metadata": {},
   "source": [
    "# Hands-On\n",
    "\n",
    "Hands-On ini digunakan pada kegiatan Microcredential Associate Data Scientist 2021"
   ]
  },
  {
   "cell_type": "markdown",
   "metadata": {},
   "source": [
    "# Definisi Matriks\n",
    "\n",
    "Matriks dalam dunia metematika merupakan suatu bilangan, simbol, ataupun ekspresi yang disusun dalam baris dan kolom yang membentuk suatu bidang persegi/persegi panjang. Matriks memiliki ukuran/orde. Pada Python, matriks dapat dibuat sesuai kebutuhan dengan menentukan ukuran/orde dari matriks. Bentuk umum ukuran/orde matriks adalah mxn, m adalah banyak baris dan n adalah banyak kolom."
   ]
  },
  {
   "cell_type": "markdown",
   "metadata": {},
   "source": [
    "# Contoh Membuat Matriks Orde 2x2\n",
    "Berikut ini adalah syntax untuk membuat sebuah matriks yang diberi nama matriksA dengan ukuran/orde 2x2. Matriks orde 2x2 merupakan matriks yang memiliki nilai pada 2 baris dan 2 kolom. \n",
    "Pada contoh: \n",
    "matriksA memiliki:\n",
    "Baris 1 Kolom 1, nilai = 1\n",
    "Baris 1 Kolom 2, nilai = 0\n",
    "Baris 2 Kolom 1, nilai = 0\n",
    "Baris 2 Kolom 2, nilai = 1"
   ]
  },
  {
   "cell_type": "code",
   "execution_count": 1,
   "metadata": {},
   "outputs": [
    {
     "name": "stdout",
     "output_type": "stream",
     "text": [
      "[[1, 0], [0, 1]]\n"
     ]
    }
   ],
   "source": [
    "#Matriks dengan ukuran 2x2\n",
    "matriksA = [ [1,0],[0,1] ]\n",
    "#Menampilkan matriks dengan nama matriksA\n",
    "print (matriksA)\n"
   ]
  },
  {
   "cell_type": "markdown",
   "metadata": {},
   "source": [
    "# Contoh Membuat Matriks Orde 3x3\n",
    "Berikut ini adalah syntax untuk membuat sebuah matriks yang diberi nama matriksB dengan ukuran/orde 3x3. Matriks orde 3x3 merupakan matriks yang memiliki nilai pada 3 baris dan 3 kolom. \n",
    "Pada contoh: \n",
    "matriksB memiliki:\n",
    "Baris 1 Kolom 1, nilai = 1\n",
    "Baris 1 Kolom 2, nilai = 0\n",
    "Baris 1 Kolom 3, nilai = 1\n",
    "Baris 2 Kolom 1, nilai = 0\n",
    "Baris 2 Kolom 2, nilai = 1\n",
    "Baris 2 Kolom 3, nilai = 0\n",
    "Baris 3 Kolom 1, nilai = 1\n",
    "Baris 3 Kolom 2, nilai = 0\n",
    "Baris 3 Kolom 3, nilai = 1"
   ]
  },
  {
   "cell_type": "code",
   "execution_count": 2,
   "metadata": {},
   "outputs": [
    {
     "name": "stdout",
     "output_type": "stream",
     "text": [
      "[[1, 0, 1], [0, 1, 0], [1, 0, 1]]\n"
     ]
    }
   ],
   "source": [
    "#Matriks dengan ukuran 3x3\n",
    "matriksB = [ [1,0,1],[0,1,0],[1,0,1] ]\n",
    "#Menampilkan matriks dengan nama MatriksB\n",
    "print (matriksB)"
   ]
  },
  {
   "cell_type": "markdown",
   "metadata": {},
   "source": [
    "# Latihan (1)\n",
    "Buatlah matriksC dengan orde 2x3, dan nilai yang diberikan pada matriksC adalah sebagai berikut:\n",
    "Baris 1 Kolom 1, nilai = 1\n",
    "Baris 1 Kolom 2, nilai = 2\n",
    "Baris 1 Kolom 3, nilai = 3\n",
    "Baris 2 Kolom 1, nilai = 4\n",
    "Baris 2 Kolom 2, nilai = 5\n",
    "Baris 2 Kolom 3, nilai = 6"
   ]
  },
  {
   "cell_type": "code",
   "execution_count": 8,
   "metadata": {},
   "outputs": [
    {
     "data": {
      "text/plain": [
       "[[1, 2, 3], [4, 5, 6]]"
      ]
     },
     "execution_count": 8,
     "metadata": {},
     "output_type": "execute_result"
    }
   ],
   "source": [
    "#Latihan(1)\n",
    "#Matriks dengan ukuran 2x3\n",
    "matriksC = [[1,2,3],[4,5,6]]\n",
    "\n",
    "#Menampilkan matriks dengan nama MatriksC\n",
    "matriksC"
   ]
  },
  {
   "cell_type": "markdown",
   "metadata": {},
   "source": [
    "# Membuat Matriks dengan Menggunakan Perulangan\n",
    "Matriks dapat juga dibuat dengan menggunakan fungsi perulangan.\n",
    "Fungsi perulangan atau biasa disebut looping atau iterasi memerlukan tes kondisi. Bila hasil tes kondisi True, maka blok kode kembali dieksekusi. Tapi jika False, maka keluar dari perulangan.\n",
    "Di python, perulangan bisa dilakukan dengan dua cara atau metode, yaitu: menggunakan For atau menggunakan While."
   ]
  },
  {
   "cell_type": "markdown",
   "metadata": {},
   "source": [
    "# Contoh Membuat Matriks dengan Perulangan FOR\n",
    "Pada contoh berikut ini, dibuat matriks dengan menggunakan perulangan for. Matriks mempunyai orde mxn, yaitu: orde 2x3, dan nilai yang diberikan adalah:\n",
    "Baris 1 Kolom 1, nilai = 1\n",
    "Baris 1 Kolom 2, nilai = 1\n",
    "Baris 1 Kolom 3, nilai = 1\n",
    "Baris 2 Kolom 1, nilai = 1\n",
    "Baris 2 Kolom 2, nilai = 1\n",
    "Baris 2 Kolom 3, nilai = 1"
   ]
  },
  {
   "cell_type": "code",
   "execution_count": 11,
   "metadata": {},
   "outputs": [
    {
     "name": "stdout",
     "output_type": "stream",
     "text": [
      "[[1, 1, 1], [1, 1, 1]]\n"
     ]
    }
   ],
   "source": [
    "#Matriks dengan menggunakan fungsi perulangan\n",
    "m = 2\n",
    "n = 3 \n",
    "x = [0]*m\n",
    "#Fungsi perulangan dengan menggunakan for\n",
    "for i in range(m): \n",
    "    x[i] = [1]*n \n",
    "#Menampilkan matriks\n",
    "print (x)"
   ]
  },
  {
   "cell_type": "markdown",
   "metadata": {},
   "source": [
    "# Latihan (2)\n",
    "Buatlah matriks dengan orde 3x2, dengan nilai adalah:\n",
    "Baris 1 Kolom 1, nilai = 2\n",
    "Baris 1 Kolom 2, nilai = 2\n",
    "Baris 2 Kolom 1, nilai = 2\n",
    "Baris 2 Kolom 2, nilai = 2\n",
    "Baris 3 Kolom 1, nilai = 2\n",
    "Baris 3 Kolom 2, nilai = 2"
   ]
  },
  {
   "cell_type": "code",
   "execution_count": 27,
   "metadata": {},
   "outputs": [
    {
     "name": "stdout",
     "output_type": "stream",
     "text": [
      "\tmatriks x = [[2, 2, 2], [3, 3, 3]] \n",
      " \tmatriks k = [[1, 1, 1], [2, 2, 2]]\n"
     ]
    }
   ],
   "source": [
    "#Latihan(2)\n",
    "#Matriks dengan menggunakan fungsi perulangan\n",
    "m = 2\n",
    "n = 3\n",
    "x = [[2]*n,[3]*n]\n",
    "\n",
    "#Fungsi perulangan dengan menggunakan for\n",
    "k = [[i,i,i] for i in range(1,m+1)]\n",
    "\n",
    "#Menampilkan matriks\n",
    "print('\\tmatriks x =' , x,'\\n','\\tmatriks k =',k)\n"
   ]
  },
  {
   "cell_type": "markdown",
   "metadata": {},
   "source": [
    "# Membuat Matriks dengan Menggunakan Library Numpy\n",
    "Library pada Python merupakan sebutan untuk kode program tambahan yang digunakan dalam kebutuhan tertentu. Python mempunyai lebih dari 140.000 library yang dikembangkan melalui open source project.\n",
    "\n",
    "Library Numpy memiliki kegunaan untuk operasi vektor dan matriks. Fiturnya hampir sama dengan MATLAB dalam mengelola array dan array multidimensi. Numpy merupakan salah satu library yang digunakan oleh library lain seperti Scikit-Learn untuk keperluan analisis data."
   ]
  },
  {
   "cell_type": "markdown",
   "metadata": {},
   "source": [
    "# Contoh Membuat Matriks dengan Numpy\n",
    "Pada contoh berikut dibuat matriks dengan panjang elemen sebanyak 12 dengan nilai elemen dimulai dari indeks 0 sampai 11, dengan ukuran/orde matriks adalah 4x3."
   ]
  },
  {
   "cell_type": "code",
   "execution_count": 28,
   "metadata": {},
   "outputs": [
    {
     "name": "stdout",
     "output_type": "stream",
     "text": [
      "[[ 0  1  2]\n",
      " [ 3  4  5]\n",
      " [ 6  7  8]\n",
      " [ 9 10 11]]\n"
     ]
    }
   ],
   "source": [
    "#Panggil Library Numpy\n",
    "from numpy import * \n",
    "#Menentukan panjang elemen sebanyak 12\n",
    "matriks = range(12) \n",
    "#Matriks orde adalah 4x3\n",
    "matriks = reshape(matriks,(4,3)) \n",
    "#Menampilkan matriks\n",
    "print (matriks)"
   ]
  },
  {
   "cell_type": "markdown",
   "metadata": {},
   "source": [
    "# Latihan (3)\n",
    "Buatlah matriks dengan menggunakan Library Numpy dengan panjang elemen adalah 32 dan matriks memiliki orde 4x8"
   ]
  },
  {
   "cell_type": "code",
   "execution_count": 31,
   "metadata": {},
   "outputs": [
    {
     "data": {
      "text/plain": [
       "array([[ 0,  1,  2,  3,  4,  5,  6,  7],\n",
       "       [ 8,  9, 10, 11, 12, 13, 14, 15],\n",
       "       [16, 17, 18, 19, 20, 21, 22, 23],\n",
       "       [24, 25, 26, 27, 28, 29, 30, 31]])"
      ]
     },
     "execution_count": 31,
     "metadata": {},
     "output_type": "execute_result"
    }
   ],
   "source": [
    "#Latihan(3)\n",
    "#Panggil Library Numpy\n",
    "import numpy as np\n",
    "\n",
    "#Menentukan panjang elemen sebanyak 32\n",
    "matriksD = range(32)\n",
    "\n",
    "#Matriks orde adalah 4x8\n",
    "matriksD = np.reshape(matriksD,(4,8))\n",
    "\n",
    "#Menampilkan matriks\n",
    "matriksD"
   ]
  },
  {
   "cell_type": "markdown",
   "metadata": {},
   "source": [
    "# Membuat Matriks dengan Nilai Random\n",
    "Jika ingin elemen pada matriks bernilai random, dapat menggunakan fungsi random yang tersedia pada numpy."
   ]
  },
  {
   "cell_type": "markdown",
   "metadata": {},
   "source": [
    "# Contoh Membuat Matriks Random dengan Numpy\n",
    "Pada contoh berikut ini dibuat matriks dengan ukuran/orde 3x4 dengan nilai elemen dimulai dari indeks 1 sampai 4 secara random. "
   ]
  },
  {
   "cell_type": "code",
   "execution_count": null,
   "metadata": {},
   "outputs": [],
   "source": []
  },
  {
   "cell_type": "code",
   "execution_count": 10,
   "metadata": {},
   "outputs": [
    {
     "data": {
      "text/plain": [
       "array([92, 25, 40,  6, 80, 83, 62, 81, 95, 50,  0, 54, 91, 46, 51, 76, 58,\n",
       "       71, 34,  5, 48,  9, 13, 57, 16, 85, 97, 52,  7, 41, 56, 18, 44, 72,\n",
       "       64, 94, 93, 39, 27, 45,  1, 63, 15, 61, 67, 88, 98, 49, 26,  2])"
      ]
     },
     "execution_count": 10,
     "metadata": {},
     "output_type": "execute_result"
    }
   ],
   "source": [
    "#Memanggil Library numpy dan diberikan nama alias np\n",
    "import numpy as np\n",
    "#Membuat matriks ukuran 3x4 dengan random\n",
    "\n",
    "matriks = np.random.randint(1,4,(3,4))\n",
    "#Menampilkan matriks\n",
    "# print (matriks)\n",
    "\n",
    "togel = []\n",
    "while(True):\n",
    "    k = np.random.randint(0,99)\n",
    "    if k not in togel:\n",
    "        togel.append(k)\n",
    "    if len(togel) == 50:\n",
    "        break\n",
    "np.transpose(togel)"
   ]
  },
  {
   "cell_type": "markdown",
   "metadata": {},
   "source": [
    "# Latihan (4)\n",
    "Buatlah matriks dengan menggunakan Library Numpy dengan orde 3x30, dan nilai elemen dimulai dari indeks 1 sampai dengan 5 secara random."
   ]
  },
  {
   "cell_type": "code",
   "execution_count": 37,
   "metadata": {},
   "outputs": [
    {
     "data": {
      "text/plain": [
       "array([[2, 3, 4, 1, 3, 1, 1, 4, 3, 2, 3, 1, 4, 2, 3, 3, 3, 4, 4, 4, 3, 2,\n",
       "        2, 3, 4, 3, 1, 1, 2, 2],\n",
       "       [1, 1, 3, 2, 2, 2, 2, 1, 1, 1, 3, 2, 1, 4, 2, 4, 4, 3, 2, 1, 3, 1,\n",
       "        1, 3, 1, 2, 2, 4, 4, 4],\n",
       "       [1, 1, 3, 2, 1, 1, 4, 3, 3, 2, 1, 2, 4, 2, 4, 1, 1, 3, 3, 1, 2, 3,\n",
       "        3, 4, 1, 4, 2, 4, 1, 3]])"
      ]
     },
     "execution_count": 37,
     "metadata": {},
     "output_type": "execute_result"
    }
   ],
   "source": [
    "#Latihan(4)\n",
    "#Memanggil Library numpy dan diberikan nama alias np\n",
    "import numpy as np\n",
    "\n",
    "#Membuat matriks ukuran 3x30 dengan random\n",
    "matriksE = np.random.randint(1,5,(3,30))\n",
    "\n",
    "#Menampilkan matriks\n",
    "matriksE"
   ]
  },
  {
   "cell_type": "markdown",
   "metadata": {},
   "source": [
    "# Penjumlahan Matriks\n",
    "\n",
    "Penjumlahan matriks dilakukan dengan menjumlahkan setiap elemen, menggunakan tanda plus (+). Hasil penjumlahan tersebut akan menjadi elemen baru. Masing - masing matriks diakses setiap elemennya pada koordinat yang sama kemudian dijumlahkan untuk mendapatkan elemen baru. Penjumlahan matriks dilakukan pada dua buah matriks yang memiliki orde sama."
   ]
  },
  {
   "cell_type": "code",
   "execution_count": 38,
   "metadata": {},
   "outputs": [
    {
     "name": "stdout",
     "output_type": "stream",
     "text": [
      "6 0 6 8 "
     ]
    }
   ],
   "source": [
    "#Penjumlahan Matriks\n",
    "#Contoh 1\n",
    "mat1 = [\n",
    "    [5, 0],\n",
    "    [2, 6],\n",
    "]\n",
    "\n",
    "mat2 = [\n",
    "    [1, 0],\n",
    "    [4, 2],\n",
    "]\n",
    "\n",
    "\n",
    "for x in range(0, len(mat1)):\n",
    "    for y in range(0, len(mat1[0])):\n",
    "        print (mat1[x][y] + mat2[x][y], end=' '),\n",
    "    print"
   ]
  },
  {
   "cell_type": "code",
   "execution_count": 39,
   "metadata": {},
   "outputs": [
    {
     "name": "stdout",
     "output_type": "stream",
     "text": [
      "[[1 2 1 1]\n",
      " [3 3 2 2]\n",
      " [3 3 1 2]]\n",
      "\n",
      "[[1 1 2 2]\n",
      " [2 2 2 2]\n",
      " [2 1 2 2]]\n",
      "\n",
      "Hasil Penjumlahan matriksA dan matriksB Baris ke- 1\n",
      "\n",
      "2 3 3 3 \n",
      "Hasil Penjumlahan matriksA dan matriksB Baris ke- 2\n",
      "\n",
      "5 5 4 4 \n",
      "Hasil Penjumlahan matriksA dan matriksB Baris ke- 3\n",
      "\n",
      "5 4 3 4 \n"
     ]
    }
   ],
   "source": [
    "#Penjumlahan Matriks\n",
    "#Contoh 2\n",
    "import numpy as np\n",
    "matriksA = np.random.randint(1, 4,(3, 4))\n",
    "matriksB = np.random.randint(1, 3,(3, 4))\n",
    "print (matriksA)\n",
    "print () #memberikan spasi baris pada matriks yang tercetak\n",
    "print (matriksB)\n",
    "print ()\n",
    "\n",
    "#penjumlahan matriksA dan matriks B\n",
    "for x in range(0, len(matriksA)):\n",
    "    print ('Hasil Penjumlahan matriksA dan matriksB', 'Baris ke-', x+1)\n",
    "    print ()\n",
    "    for y in range(0, len(matriksA[0])):\n",
    "        print (matriksA[x][y] + matriksB[x][y], end=' '),\n",
    "    print ()"
   ]
  },
  {
   "cell_type": "code",
   "execution_count": 42,
   "metadata": {},
   "outputs": [
    {
     "name": "stdout",
     "output_type": "stream",
     "text": [
      "[[2 1 1 2 2 1 2 3 1 2]\n",
      " [3 3 2 1 2 2 2 1 2 2]\n",
      " [2 2 3 2 1 1 1 3 2 1]\n",
      " [1 1 3 1 2 3 1 3 1 1]\n",
      " [3 3 1 1 1 1 2 2 2 1]\n",
      " [1 3 3 3 1 3 1 3 2 3]]\n",
      "\n",
      "[[2 2 2 1 2 2 2 1 1 2]\n",
      " [2 2 1 2 1 1 2 2 2 1]\n",
      " [1 2 2 1 2 1 1 2 1 2]\n",
      " [2 1 2 2 1 1 1 2 2 2]\n",
      " [1 2 2 2 2 1 1 2 1 2]\n",
      " [2 1 2 2 2 2 1 1 1 2]]\n",
      "\n",
      "\n",
      "4 3 3 3 4 3 4 4 2 4 \n",
      "\n",
      "5 5 3 3 3 3 4 3 4 3 \n",
      "\n",
      "3 4 5 3 3 2 2 5 3 3 \n",
      "\n",
      "3 2 5 3 3 4 2 5 3 3 \n",
      "\n",
      "4 5 3 3 3 2 3 4 3 3 \n",
      "\n",
      "3 4 5 5 3 5 2 4 3 5 \n"
     ]
    }
   ],
   "source": [
    "#Penjumlahan Matriks\n",
    "#Contoh 3\n",
    "import numpy as np\n",
    "matriksA = np.random.randint(1, 4,(6, 10))\n",
    "matriksB = np.random.randint(1, 3,(6, 10))\n",
    "print (matriksA)\n",
    "print () #memberikan spasi baris pada matriks yang tercetak\n",
    "print (matriksB)\n",
    "print ()\n",
    "\n",
    "#penjumlahan matriksA dan matriks B\n",
    "for x in range(0, len(matriksA)):\n",
    "    print ()\n",
    "    for y in range(0, len(matriksA[0])):\n",
    "        print (matriksA[x][y] + matriksB[x][y], end=' '),\n",
    "    print ()"
   ]
  },
  {
   "cell_type": "markdown",
   "metadata": {},
   "source": [
    "# Latihan (5)\n",
    "\n",
    "Buatlah penjumlahan dua matriks dengan menggunakan library Numpy, dengan matriks berukuran 7x9 yang nilainya didapatkan secara random."
   ]
  },
  {
   "cell_type": "code",
   "execution_count": 43,
   "metadata": {},
   "outputs": [
    {
     "data": {
      "text/plain": [
       "array([[5, 2, 7, 7, 5, 6, 6, 3, 4],\n",
       "       [6, 6, 4, 5, 5, 2, 5, 3, 4],\n",
       "       [6, 4, 5, 6, 5, 4, 4, 4, 5],\n",
       "       [6, 4, 6, 6, 2, 4, 6, 7, 3],\n",
       "       [5, 4, 3, 7, 5, 5, 6, 3, 4],\n",
       "       [4, 5, 5, 5, 7, 4, 3, 5, 3],\n",
       "       [4, 6, 4, 6, 2, 7, 7, 3, 6]])"
      ]
     },
     "execution_count": 43,
     "metadata": {},
     "output_type": "execute_result"
    }
   ],
   "source": [
    "#Latihan(5)\n",
    "#Penjumlahan Matriks\n",
    "import numpy as np\n",
    "matriksA = np.random.randint(1, 4,(7, 9))\n",
    "matriksB = np.random.randint(1, 5,(7, 9))\n",
    "\n",
    "#penjumlahan matriksA dan matriks B\n",
    "matriksA + matriksB\n"
   ]
  },
  {
   "cell_type": "markdown",
   "metadata": {},
   "source": [
    "# Pengurangan Matriks\n",
    "\n",
    "Pengurangan matriks menggunakan operator dengan tanda kurang (-). Matriks baru akan terbentuk sebagai hasil dari pengurangan setiap kedua elemen matriks. Pengurangan matriks dilakukan pada dua matriks yang memiliki orde yang sama."
   ]
  },
  {
   "cell_type": "code",
   "execution_count": 44,
   "metadata": {},
   "outputs": [
    {
     "name": "stdout",
     "output_type": "stream",
     "text": [
      "4 0 -2 4 "
     ]
    }
   ],
   "source": [
    "#Pengurangan Matriks\n",
    "#Contoh 1\n",
    "mat1 = [\n",
    "    [5, 0],\n",
    "    [2, 6],\n",
    "]\n",
    "\n",
    "mat2 = [\n",
    "    [1, 0],\n",
    "    [4, 2],\n",
    "]\n",
    "\n",
    "\n",
    "for x in range(0, len(mat1)):\n",
    "    for y in range(0, len(mat1[0])):\n",
    "        print (mat1[x][y] - mat2[x][y], end=' '),\n",
    "    print"
   ]
  },
  {
   "cell_type": "code",
   "execution_count": 45,
   "metadata": {},
   "outputs": [
    {
     "name": "stdout",
     "output_type": "stream",
     "text": [
      "4 0 \n",
      "-2 4 \n"
     ]
    }
   ],
   "source": [
    "#Pengurangan Matriks\n",
    "#Contoh 2\n",
    "mat1 = [\n",
    "    [5, 0],\n",
    "    [2, 6],\n",
    "]\n",
    "\n",
    "mat2 = [\n",
    "    [1, 0],\n",
    "    [4, 2],\n",
    "]\n",
    "\n",
    "\n",
    "for x in range(0, len(mat1)):\n",
    "    for y in range(0, len(mat1[0])):\n",
    "        print (mat1[x][y] - mat2[x][y], end=' '),\n",
    "    print ()"
   ]
  },
  {
   "cell_type": "code",
   "execution_count": 46,
   "metadata": {},
   "outputs": [
    {
     "name": "stdout",
     "output_type": "stream",
     "text": [
      "[[1 1 1 3]\n",
      " [2 1 1 1]\n",
      " [3 1 3 2]]\n",
      "\n",
      "[[2 1 2 1]\n",
      " [2 1 2 2]\n",
      " [1 2 2 1]]\n",
      "\n",
      "Hasil Pengurangan matriksA dan matriksB Baris ke- 1\n",
      "\n",
      "-1 0 -1 2 \n",
      "Hasil Pengurangan matriksA dan matriksB Baris ke- 2\n",
      "\n",
      "0 0 -1 -1 \n",
      "Hasil Pengurangan matriksA dan matriksB Baris ke- 3\n",
      "\n",
      "2 -1 1 1 \n"
     ]
    }
   ],
   "source": [
    "#Pengurangan Matriks\n",
    "#Contoh 3\n",
    "import numpy as np\n",
    "matriksA = np.random.randint(1, 4,(3, 4))\n",
    "matriksB = np.random.randint(1, 3,(3, 4))\n",
    "print (matriksA)\n",
    "print () #memberikan spasi baris pada matriks yang tercetak\n",
    "print (matriksB)\n",
    "print ()\n",
    "\n",
    "#pengurangan matriksA dengan matriks B\n",
    "for x in range(0, len(matriksA)):\n",
    "    print ('Hasil Pengurangan matriksA dan matriksB', 'Baris ke-', x+1)\n",
    "    print ()\n",
    "    for y in range(0, len(matriksA[0])):\n",
    "        print (matriksA[x][y] - matriksB[x][y], end=' '),\n",
    "    print ()"
   ]
  },
  {
   "cell_type": "code",
   "execution_count": 47,
   "metadata": {},
   "outputs": [
    {
     "name": "stdout",
     "output_type": "stream",
     "text": [
      "[[3 1 3 3 1 3 1 3 2 1]\n",
      " [1 3 1 1 3 3 2 1 1 3]\n",
      " [3 1 1 1 2 2 1 3 1 2]\n",
      " [2 3 1 3 3 3 2 1 3 2]\n",
      " [2 1 1 2 1 2 1 1 2 2]\n",
      " [2 3 3 3 2 1 2 1 2 3]]\n",
      "\n",
      "[[2 1 2 1 2 2 1 2 1 1]\n",
      " [1 2 2 1 1 1 2 2 2 1]\n",
      " [2 1 1 1 1 1 2 1 1 2]\n",
      " [1 2 2 1 1 2 2 2 1 2]\n",
      " [1 2 1 1 2 2 2 2 1 2]\n",
      " [2 1 1 2 2 2 2 2 1 1]]\n",
      "\n",
      "\n",
      "1 0 1 2 -1 1 0 1 1 0 \n",
      "\n",
      "0 1 -1 0 2 2 0 -1 -1 2 \n",
      "\n",
      "1 0 0 0 1 1 -1 2 0 0 \n",
      "\n",
      "1 1 -1 2 2 1 0 -1 2 0 \n",
      "\n",
      "1 -1 0 1 -1 0 -1 -1 1 0 \n",
      "\n",
      "0 2 2 1 0 -1 0 -1 1 2 \n"
     ]
    }
   ],
   "source": [
    "#Pengurangan Matriks\n",
    "#Contoh 4\n",
    "import numpy as np\n",
    "matriksA = np.random.randint(1, 4,(6, 10))\n",
    "matriksB = np.random.randint(1, 3,(6, 10))\n",
    "print (matriksA)\n",
    "print () #memberikan spasi baris pada matriks yang tercetak\n",
    "print (matriksB)\n",
    "print ()\n",
    "\n",
    "#pengurangan matriksA dengan matriks B\n",
    "for x in range(0, len(matriksA)):\n",
    "    print ()\n",
    "    for y in range(0, len(matriksA[0])):\n",
    "        print (matriksA[x][y] - matriksB[x][y], end=' '),\n",
    "    print ()"
   ]
  },
  {
   "cell_type": "markdown",
   "metadata": {},
   "source": [
    "# Latihan (6)\n",
    "\n",
    "Buatlah pengurangan dua matriks dengan menggunakan library Numpy, dengan matriks berukuran 7x9 yang nilainya didapatkan secara random."
   ]
  },
  {
   "cell_type": "code",
   "execution_count": 48,
   "metadata": {},
   "outputs": [
    {
     "data": {
      "text/plain": [
       "array([[ 1,  1,  1,  0,  1, -4,  2,  2,  2],\n",
       "       [ 1,  0,  4,  3,  7,  3,  3,  7,  1],\n",
       "       [-1,  3,  6,  5,  4,  0,  0,  3, -3],\n",
       "       [-3,  0,  6,  7,  2, -4,  5,  3, -1],\n",
       "       [ 4,  0,  1,  2,  2, -5,  2, -1, -2],\n",
       "       [ 1, -2,  6,  0,  7, -5,  1,  6, -1],\n",
       "       [-1,  2, -3,  6, -2, -2,  6, -3,  3]])"
      ]
     },
     "execution_count": 48,
     "metadata": {},
     "output_type": "execute_result"
    }
   ],
   "source": [
    "#Latihan(6)\n",
    "#Pengurangan Matriks\n",
    "import numpy as np\n",
    "matriksA = np.random.randint(1, 9,(7,9))\n",
    "matriksB = np.random.randint(1, 7,(7,9))\n",
    "\n",
    "#pengurangan matriksA dengan matriks B\n",
    "matriksA - matriksB"
   ]
  },
  {
   "cell_type": "markdown",
   "metadata": {},
   "source": [
    "# Penggunaan Library Pandas"
   ]
  },
  {
   "cell_type": "markdown",
   "metadata": {},
   "source": [
    "# Latihan (7)\n",
    "\n",
    "Lakukan import Library Pandas"
   ]
  },
  {
   "cell_type": "code",
   "execution_count": 50,
   "metadata": {},
   "outputs": [],
   "source": [
    "#Latihan(7)\n",
    "#Import Library Pandas\n",
    "\n",
    "import pandas as pd"
   ]
  },
  {
   "cell_type": "markdown",
   "metadata": {},
   "source": [
    "# Latihan (8)\n",
    "\n",
    "Panggil file dengan format .csv yang bernama \"cloth_data\""
   ]
  },
  {
   "cell_type": "code",
   "execution_count": 51,
   "metadata": {},
   "outputs": [],
   "source": [
    "#latihan(8)\n",
    "#Panggil file bernama cloth_data.csv\n",
    "\n",
    "cloth_data = pd.read_csv('cloth_data.csv')"
   ]
  },
  {
   "cell_type": "markdown",
   "metadata": {},
   "source": [
    "# Latihan (9)\n",
    "\n",
    "Tampilkan data dari \"cloth_data\" "
   ]
  },
  {
   "cell_type": "code",
   "execution_count": 52,
   "metadata": {},
   "outputs": [
    {
     "data": {
      "text/html": [
       "<div>\n",
       "<style scoped>\n",
       "    .dataframe tbody tr th:only-of-type {\n",
       "        vertical-align: middle;\n",
       "    }\n",
       "\n",
       "    .dataframe tbody tr th {\n",
       "        vertical-align: top;\n",
       "    }\n",
       "\n",
       "    .dataframe thead th {\n",
       "        text-align: right;\n",
       "    }\n",
       "</style>\n",
       "<table border=\"1\" class=\"dataframe\">\n",
       "  <thead>\n",
       "    <tr style=\"text-align: right;\">\n",
       "      <th></th>\n",
       "      <th>weight</th>\n",
       "      <th>age</th>\n",
       "      <th>height</th>\n",
       "      <th>size</th>\n",
       "    </tr>\n",
       "  </thead>\n",
       "  <tbody>\n",
       "    <tr>\n",
       "      <th>0</th>\n",
       "      <td>62</td>\n",
       "      <td>28.0</td>\n",
       "      <td>172.72</td>\n",
       "      <td>XL</td>\n",
       "    </tr>\n",
       "    <tr>\n",
       "      <th>1</th>\n",
       "      <td>59</td>\n",
       "      <td>36.0</td>\n",
       "      <td>167.64</td>\n",
       "      <td>L</td>\n",
       "    </tr>\n",
       "    <tr>\n",
       "      <th>2</th>\n",
       "      <td>61</td>\n",
       "      <td>34.0</td>\n",
       "      <td>165.10</td>\n",
       "      <td>M</td>\n",
       "    </tr>\n",
       "    <tr>\n",
       "      <th>3</th>\n",
       "      <td>65</td>\n",
       "      <td>27.0</td>\n",
       "      <td>175.26</td>\n",
       "      <td>L</td>\n",
       "    </tr>\n",
       "    <tr>\n",
       "      <th>4</th>\n",
       "      <td>62</td>\n",
       "      <td>45.0</td>\n",
       "      <td>172.72</td>\n",
       "      <td>M</td>\n",
       "    </tr>\n",
       "  </tbody>\n",
       "</table>\n",
       "</div>"
      ],
      "text/plain": [
       "   weight   age  height size\n",
       "0      62  28.0  172.72   XL\n",
       "1      59  36.0  167.64    L\n",
       "2      61  34.0  165.10    M\n",
       "3      65  27.0  175.26    L\n",
       "4      62  45.0  172.72    M"
      ]
     },
     "execution_count": 52,
     "metadata": {},
     "output_type": "execute_result"
    }
   ],
   "source": [
    "#latihan(9)\n",
    "#Tampilkan data dari dataset cloth_data \n",
    "\n",
    "cloth_data.head()"
   ]
  },
  {
   "cell_type": "markdown",
   "metadata": {},
   "source": [
    "# Latihan (10)\n",
    "\n",
    "Tampilkan data dari \"cloth_data\" mulai dari indeks 0 (nol) sampai dengan indeks 10 (sepuluh)"
   ]
  },
  {
   "cell_type": "code",
   "execution_count": 53,
   "metadata": {},
   "outputs": [
    {
     "data": {
      "text/html": [
       "<div>\n",
       "<style scoped>\n",
       "    .dataframe tbody tr th:only-of-type {\n",
       "        vertical-align: middle;\n",
       "    }\n",
       "\n",
       "    .dataframe tbody tr th {\n",
       "        vertical-align: top;\n",
       "    }\n",
       "\n",
       "    .dataframe thead th {\n",
       "        text-align: right;\n",
       "    }\n",
       "</style>\n",
       "<table border=\"1\" class=\"dataframe\">\n",
       "  <thead>\n",
       "    <tr style=\"text-align: right;\">\n",
       "      <th></th>\n",
       "      <th>weight</th>\n",
       "      <th>age</th>\n",
       "      <th>height</th>\n",
       "      <th>size</th>\n",
       "    </tr>\n",
       "  </thead>\n",
       "  <tbody>\n",
       "    <tr>\n",
       "      <th>0</th>\n",
       "      <td>62</td>\n",
       "      <td>28.0</td>\n",
       "      <td>172.72</td>\n",
       "      <td>XL</td>\n",
       "    </tr>\n",
       "    <tr>\n",
       "      <th>1</th>\n",
       "      <td>59</td>\n",
       "      <td>36.0</td>\n",
       "      <td>167.64</td>\n",
       "      <td>L</td>\n",
       "    </tr>\n",
       "    <tr>\n",
       "      <th>2</th>\n",
       "      <td>61</td>\n",
       "      <td>34.0</td>\n",
       "      <td>165.10</td>\n",
       "      <td>M</td>\n",
       "    </tr>\n",
       "    <tr>\n",
       "      <th>3</th>\n",
       "      <td>65</td>\n",
       "      <td>27.0</td>\n",
       "      <td>175.26</td>\n",
       "      <td>L</td>\n",
       "    </tr>\n",
       "    <tr>\n",
       "      <th>4</th>\n",
       "      <td>62</td>\n",
       "      <td>45.0</td>\n",
       "      <td>172.72</td>\n",
       "      <td>M</td>\n",
       "    </tr>\n",
       "    <tr>\n",
       "      <th>5</th>\n",
       "      <td>50</td>\n",
       "      <td>27.0</td>\n",
       "      <td>160.02</td>\n",
       "      <td>S</td>\n",
       "    </tr>\n",
       "    <tr>\n",
       "      <th>6</th>\n",
       "      <td>53</td>\n",
       "      <td>65.0</td>\n",
       "      <td>160.02</td>\n",
       "      <td>M</td>\n",
       "    </tr>\n",
       "    <tr>\n",
       "      <th>7</th>\n",
       "      <td>51</td>\n",
       "      <td>33.0</td>\n",
       "      <td>160.02</td>\n",
       "      <td>XXS</td>\n",
       "    </tr>\n",
       "    <tr>\n",
       "      <th>8</th>\n",
       "      <td>54</td>\n",
       "      <td>26.0</td>\n",
       "      <td>167.64</td>\n",
       "      <td>M</td>\n",
       "    </tr>\n",
       "    <tr>\n",
       "      <th>9</th>\n",
       "      <td>53</td>\n",
       "      <td>32.0</td>\n",
       "      <td>165.10</td>\n",
       "      <td>S</td>\n",
       "    </tr>\n",
       "  </tbody>\n",
       "</table>\n",
       "</div>"
      ],
      "text/plain": [
       "   weight   age  height size\n",
       "0      62  28.0  172.72   XL\n",
       "1      59  36.0  167.64    L\n",
       "2      61  34.0  165.10    M\n",
       "3      65  27.0  175.26    L\n",
       "4      62  45.0  172.72    M\n",
       "5      50  27.0  160.02    S\n",
       "6      53  65.0  160.02    M\n",
       "7      51  33.0  160.02  XXS\n",
       "8      54  26.0  167.64    M\n",
       "9      53  32.0  165.10    S"
      ]
     },
     "execution_count": 53,
     "metadata": {},
     "output_type": "execute_result"
    }
   ],
   "source": [
    "#Latihan(10)\n",
    "#Tampilkan data dari \"cloth_data\" mulai dari indeks 0 (nol) sampai dengan indeks 10 (sepuluh)\n",
    "\n",
    "cloth_data.head(10)\n"
   ]
  },
  {
   "cell_type": "markdown",
   "metadata": {},
   "source": [
    "# Latihan (11)\n",
    "\n",
    "Tampilkan data dari \"cloth_data\" untuk kolom age dan size"
   ]
  },
  {
   "cell_type": "code",
   "execution_count": 55,
   "metadata": {},
   "outputs": [
    {
     "data": {
      "text/html": [
       "<div>\n",
       "<style scoped>\n",
       "    .dataframe tbody tr th:only-of-type {\n",
       "        vertical-align: middle;\n",
       "    }\n",
       "\n",
       "    .dataframe tbody tr th {\n",
       "        vertical-align: top;\n",
       "    }\n",
       "\n",
       "    .dataframe thead th {\n",
       "        text-align: right;\n",
       "    }\n",
       "</style>\n",
       "<table border=\"1\" class=\"dataframe\">\n",
       "  <thead>\n",
       "    <tr style=\"text-align: right;\">\n",
       "      <th></th>\n",
       "      <th>age</th>\n",
       "      <th>size</th>\n",
       "    </tr>\n",
       "  </thead>\n",
       "  <tbody>\n",
       "    <tr>\n",
       "      <th>0</th>\n",
       "      <td>28.0</td>\n",
       "      <td>XL</td>\n",
       "    </tr>\n",
       "    <tr>\n",
       "      <th>1</th>\n",
       "      <td>36.0</td>\n",
       "      <td>L</td>\n",
       "    </tr>\n",
       "    <tr>\n",
       "      <th>2</th>\n",
       "      <td>34.0</td>\n",
       "      <td>M</td>\n",
       "    </tr>\n",
       "    <tr>\n",
       "      <th>3</th>\n",
       "      <td>27.0</td>\n",
       "      <td>L</td>\n",
       "    </tr>\n",
       "    <tr>\n",
       "      <th>4</th>\n",
       "      <td>45.0</td>\n",
       "      <td>M</td>\n",
       "    </tr>\n",
       "    <tr>\n",
       "      <th>5</th>\n",
       "      <td>27.0</td>\n",
       "      <td>S</td>\n",
       "    </tr>\n",
       "    <tr>\n",
       "      <th>6</th>\n",
       "      <td>65.0</td>\n",
       "      <td>M</td>\n",
       "    </tr>\n",
       "    <tr>\n",
       "      <th>7</th>\n",
       "      <td>33.0</td>\n",
       "      <td>XXS</td>\n",
       "    </tr>\n",
       "    <tr>\n",
       "      <th>8</th>\n",
       "      <td>26.0</td>\n",
       "      <td>M</td>\n",
       "    </tr>\n",
       "    <tr>\n",
       "      <th>9</th>\n",
       "      <td>32.0</td>\n",
       "      <td>S</td>\n",
       "    </tr>\n",
       "    <tr>\n",
       "      <th>10</th>\n",
       "      <td>30.0</td>\n",
       "      <td>XXXL</td>\n",
       "    </tr>\n",
       "    <tr>\n",
       "      <th>11</th>\n",
       "      <td>35.0</td>\n",
       "      <td>XXXL</td>\n",
       "    </tr>\n",
       "    <tr>\n",
       "      <th>12</th>\n",
       "      <td>26.0</td>\n",
       "      <td>L</td>\n",
       "    </tr>\n",
       "    <tr>\n",
       "      <th>13</th>\n",
       "      <td>28.0</td>\n",
       "      <td>M</td>\n",
       "    </tr>\n",
       "    <tr>\n",
       "      <th>14</th>\n",
       "      <td>33.0</td>\n",
       "      <td>L</td>\n",
       "    </tr>\n",
       "    <tr>\n",
       "      <th>15</th>\n",
       "      <td>30.0</td>\n",
       "      <td>L</td>\n",
       "    </tr>\n",
       "    <tr>\n",
       "      <th>16</th>\n",
       "      <td>21.0</td>\n",
       "      <td>XXS</td>\n",
       "    </tr>\n",
       "    <tr>\n",
       "      <th>17</th>\n",
       "      <td>27.0</td>\n",
       "      <td>M</td>\n",
       "    </tr>\n",
       "    <tr>\n",
       "      <th>18</th>\n",
       "      <td>30.0</td>\n",
       "      <td>M</td>\n",
       "    </tr>\n",
       "    <tr>\n",
       "      <th>19</th>\n",
       "      <td>20.0</td>\n",
       "      <td>S</td>\n",
       "    </tr>\n",
       "    <tr>\n",
       "      <th>20</th>\n",
       "      <td>32.0</td>\n",
       "      <td>S</td>\n",
       "    </tr>\n",
       "    <tr>\n",
       "      <th>21</th>\n",
       "      <td>37.0</td>\n",
       "      <td>M</td>\n",
       "    </tr>\n",
       "    <tr>\n",
       "      <th>22</th>\n",
       "      <td>50.0</td>\n",
       "      <td>S</td>\n",
       "    </tr>\n",
       "    <tr>\n",
       "      <th>23</th>\n",
       "      <td>43.0</td>\n",
       "      <td>M</td>\n",
       "    </tr>\n",
       "    <tr>\n",
       "      <th>24</th>\n",
       "      <td>29.0</td>\n",
       "      <td>XL</td>\n",
       "    </tr>\n",
       "    <tr>\n",
       "      <th>25</th>\n",
       "      <td>32.0</td>\n",
       "      <td>XL</td>\n",
       "    </tr>\n",
       "    <tr>\n",
       "      <th>26</th>\n",
       "      <td>29.0</td>\n",
       "      <td>XXS</td>\n",
       "    </tr>\n",
       "    <tr>\n",
       "      <th>27</th>\n",
       "      <td>47.0</td>\n",
       "      <td>M</td>\n",
       "    </tr>\n",
       "    <tr>\n",
       "      <th>28</th>\n",
       "      <td>31.0</td>\n",
       "      <td>XL</td>\n",
       "    </tr>\n",
       "    <tr>\n",
       "      <th>29</th>\n",
       "      <td>27.0</td>\n",
       "      <td>L</td>\n",
       "    </tr>\n",
       "    <tr>\n",
       "      <th>30</th>\n",
       "      <td>43.0</td>\n",
       "      <td>S</td>\n",
       "    </tr>\n",
       "    <tr>\n",
       "      <th>31</th>\n",
       "      <td>27.0</td>\n",
       "      <td>M</td>\n",
       "    </tr>\n",
       "    <tr>\n",
       "      <th>32</th>\n",
       "      <td>29.0</td>\n",
       "      <td>M</td>\n",
       "    </tr>\n",
       "    <tr>\n",
       "      <th>33</th>\n",
       "      <td>48.0</td>\n",
       "      <td>XXXL</td>\n",
       "    </tr>\n",
       "    <tr>\n",
       "      <th>34</th>\n",
       "      <td>36.0</td>\n",
       "      <td>XL</td>\n",
       "    </tr>\n",
       "    <tr>\n",
       "      <th>35</th>\n",
       "      <td>27.0</td>\n",
       "      <td>L</td>\n",
       "    </tr>\n",
       "    <tr>\n",
       "      <th>36</th>\n",
       "      <td>34.0</td>\n",
       "      <td>L</td>\n",
       "    </tr>\n",
       "    <tr>\n",
       "      <th>37</th>\n",
       "      <td>40.0</td>\n",
       "      <td>M</td>\n",
       "    </tr>\n",
       "    <tr>\n",
       "      <th>38</th>\n",
       "      <td>45.0</td>\n",
       "      <td>M</td>\n",
       "    </tr>\n",
       "    <tr>\n",
       "      <th>39</th>\n",
       "      <td>30.0</td>\n",
       "      <td>S</td>\n",
       "    </tr>\n",
       "    <tr>\n",
       "      <th>40</th>\n",
       "      <td>52.0</td>\n",
       "      <td>XXXL</td>\n",
       "    </tr>\n",
       "    <tr>\n",
       "      <th>41</th>\n",
       "      <td>37.0</td>\n",
       "      <td>XXXL</td>\n",
       "    </tr>\n",
       "    <tr>\n",
       "      <th>42</th>\n",
       "      <td>34.0</td>\n",
       "      <td>L</td>\n",
       "    </tr>\n",
       "    <tr>\n",
       "      <th>43</th>\n",
       "      <td>24.0</td>\n",
       "      <td>S</td>\n",
       "    </tr>\n",
       "    <tr>\n",
       "      <th>44</th>\n",
       "      <td>28.0</td>\n",
       "      <td>M</td>\n",
       "    </tr>\n",
       "    <tr>\n",
       "      <th>45</th>\n",
       "      <td>34.0</td>\n",
       "      <td>XXXL</td>\n",
       "    </tr>\n",
       "    <tr>\n",
       "      <th>46</th>\n",
       "      <td>25.0</td>\n",
       "      <td>S</td>\n",
       "    </tr>\n",
       "    <tr>\n",
       "      <th>47</th>\n",
       "      <td>32.0</td>\n",
       "      <td>M</td>\n",
       "    </tr>\n",
       "    <tr>\n",
       "      <th>48</th>\n",
       "      <td>27.0</td>\n",
       "      <td>S</td>\n",
       "    </tr>\n",
       "    <tr>\n",
       "      <th>49</th>\n",
       "      <td>29.0</td>\n",
       "      <td>XXXL</td>\n",
       "    </tr>\n",
       "  </tbody>\n",
       "</table>\n",
       "</div>"
      ],
      "text/plain": [
       "     age  size\n",
       "0   28.0    XL\n",
       "1   36.0     L\n",
       "2   34.0     M\n",
       "3   27.0     L\n",
       "4   45.0     M\n",
       "5   27.0     S\n",
       "6   65.0     M\n",
       "7   33.0   XXS\n",
       "8   26.0     M\n",
       "9   32.0     S\n",
       "10  30.0  XXXL\n",
       "11  35.0  XXXL\n",
       "12  26.0     L\n",
       "13  28.0     M\n",
       "14  33.0     L\n",
       "15  30.0     L\n",
       "16  21.0   XXS\n",
       "17  27.0     M\n",
       "18  30.0     M\n",
       "19  20.0     S\n",
       "20  32.0     S\n",
       "21  37.0     M\n",
       "22  50.0     S\n",
       "23  43.0     M\n",
       "24  29.0    XL\n",
       "25  32.0    XL\n",
       "26  29.0   XXS\n",
       "27  47.0     M\n",
       "28  31.0    XL\n",
       "29  27.0     L\n",
       "30  43.0     S\n",
       "31  27.0     M\n",
       "32  29.0     M\n",
       "33  48.0  XXXL\n",
       "34  36.0    XL\n",
       "35  27.0     L\n",
       "36  34.0     L\n",
       "37  40.0     M\n",
       "38  45.0     M\n",
       "39  30.0     S\n",
       "40  52.0  XXXL\n",
       "41  37.0  XXXL\n",
       "42  34.0     L\n",
       "43  24.0     S\n",
       "44  28.0     M\n",
       "45  34.0  XXXL\n",
       "46  25.0     S\n",
       "47  32.0     M\n",
       "48  27.0     S\n",
       "49  29.0  XXXL"
      ]
     },
     "execution_count": 55,
     "metadata": {},
     "output_type": "execute_result"
    }
   ],
   "source": [
    "#Latihan(11)\n",
    "#Tampilkan data dari \"cloth_data\" untuk kolom age dan size\n",
    "\n",
    "cloth_data[['age','size']]"
   ]
  },
  {
   "cell_type": "markdown",
   "metadata": {},
   "source": [
    "# Latihan (12)\n",
    "\n",
    "Tampilkan data dari \"cloth_data\" untuk kolom age dan size, mulai dari indeks 0 (nol) sampai dengan indeks 10 (sepuluh)"
   ]
  },
  {
   "cell_type": "code",
   "execution_count": 56,
   "metadata": {},
   "outputs": [
    {
     "data": {
      "text/html": [
       "<div>\n",
       "<style scoped>\n",
       "    .dataframe tbody tr th:only-of-type {\n",
       "        vertical-align: middle;\n",
       "    }\n",
       "\n",
       "    .dataframe tbody tr th {\n",
       "        vertical-align: top;\n",
       "    }\n",
       "\n",
       "    .dataframe thead th {\n",
       "        text-align: right;\n",
       "    }\n",
       "</style>\n",
       "<table border=\"1\" class=\"dataframe\">\n",
       "  <thead>\n",
       "    <tr style=\"text-align: right;\">\n",
       "      <th></th>\n",
       "      <th>age</th>\n",
       "      <th>size</th>\n",
       "    </tr>\n",
       "  </thead>\n",
       "  <tbody>\n",
       "    <tr>\n",
       "      <th>0</th>\n",
       "      <td>28.0</td>\n",
       "      <td>XL</td>\n",
       "    </tr>\n",
       "    <tr>\n",
       "      <th>1</th>\n",
       "      <td>36.0</td>\n",
       "      <td>L</td>\n",
       "    </tr>\n",
       "    <tr>\n",
       "      <th>2</th>\n",
       "      <td>34.0</td>\n",
       "      <td>M</td>\n",
       "    </tr>\n",
       "    <tr>\n",
       "      <th>3</th>\n",
       "      <td>27.0</td>\n",
       "      <td>L</td>\n",
       "    </tr>\n",
       "    <tr>\n",
       "      <th>4</th>\n",
       "      <td>45.0</td>\n",
       "      <td>M</td>\n",
       "    </tr>\n",
       "    <tr>\n",
       "      <th>5</th>\n",
       "      <td>27.0</td>\n",
       "      <td>S</td>\n",
       "    </tr>\n",
       "    <tr>\n",
       "      <th>6</th>\n",
       "      <td>65.0</td>\n",
       "      <td>M</td>\n",
       "    </tr>\n",
       "    <tr>\n",
       "      <th>7</th>\n",
       "      <td>33.0</td>\n",
       "      <td>XXS</td>\n",
       "    </tr>\n",
       "    <tr>\n",
       "      <th>8</th>\n",
       "      <td>26.0</td>\n",
       "      <td>M</td>\n",
       "    </tr>\n",
       "    <tr>\n",
       "      <th>9</th>\n",
       "      <td>32.0</td>\n",
       "      <td>S</td>\n",
       "    </tr>\n",
       "  </tbody>\n",
       "</table>\n",
       "</div>"
      ],
      "text/plain": [
       "    age size\n",
       "0  28.0   XL\n",
       "1  36.0    L\n",
       "2  34.0    M\n",
       "3  27.0    L\n",
       "4  45.0    M\n",
       "5  27.0    S\n",
       "6  65.0    M\n",
       "7  33.0  XXS\n",
       "8  26.0    M\n",
       "9  32.0    S"
      ]
     },
     "execution_count": 56,
     "metadata": {},
     "output_type": "execute_result"
    }
   ],
   "source": [
    "#Latihan(12)\n",
    "#Tampilkan data dari \"cloth_data\" untuk kolom age dan size, mulai dari indeks 0 (nol) sampai dengan indeks 10 (sepuluh)\n",
    "\n",
    "cloth_data[['age','size']].head(10)"
   ]
  },
  {
   "cell_type": "markdown",
   "metadata": {},
   "source": [
    "# Penggunaan Library Matplotlib"
   ]
  },
  {
   "cell_type": "markdown",
   "metadata": {},
   "source": [
    "# Latihan (13)\n",
    "\n",
    "Lakukan import Library Matplotlib"
   ]
  },
  {
   "cell_type": "code",
   "execution_count": 57,
   "metadata": {},
   "outputs": [],
   "source": [
    "#Latihan(13)\n",
    "#Import Library Matplotlib\n",
    "\n",
    "import matplotlib.pyplot as plt"
   ]
  },
  {
   "cell_type": "markdown",
   "metadata": {},
   "source": [
    "# Latihan (14)\n",
    "\n",
    "Buatlah visualisasi dalam bentuk histogram pada data \"cloth_data\" untuk kolom size"
   ]
  },
  {
   "cell_type": "code",
   "execution_count": 60,
   "metadata": {},
   "outputs": [
    {
     "data": {
      "image/png": "[encoded data removed]",
      "text/plain": [
       "<Figure size 432x288 with 1 Axes>"
      ]
     },
     "metadata": {
      "needs_background": "light"
     },
     "output_type": "display_data"
    }
   ],
   "source": [
    "#Latihan(14)\n",
    "#Buat histogram untuk kolom size\n",
    "\n",
    "plt.hist(cloth_data['size'])\n",
    "plt.show()"
   ]
  },
  {
   "cell_type": "markdown",
   "metadata": {},
   "source": [
    "# Latihan (15)\n",
    "\n",
    "Buatlah visualisasi dalam bentuk grafik (plot) pada data \"cloth_data\" untuk kolom age dan kolom size"
   ]
  },
  {
   "cell_type": "code",
   "execution_count": 61,
   "metadata": {},
   "outputs": [
    {
     "data": {
      "text/plain": [
       "[<matplotlib.lines.Line2D at 0x1255c3879a0>]"
      ]
     },
     "execution_count": 61,
     "metadata": {},
     "output_type": "execute_result"
    },
    {
     "data": {
      "image/png": "[encoded data removed]",
      "text/plain": [
       "<Figure size 432x288 with 1 Axes>"
      ]
     },
     "metadata": {
      "needs_background": "light"
     },
     "output_type": "display_data"
    }
   ],
   "source": [
    "#Latihan(15)\n",
    "#Visualisasi dalam bentuk grafik (plot) pada data \"cloth_data\" untuk kolom age dan kolom size\n",
    "\n",
    "plt.plot(cloth_data['age'],cloth_data['size'])"
   ]
  },
  {
   "cell_type": "markdown",
   "metadata": {},
   "source": [
    "# Latihan (16)\n",
    "\n",
    "Buatlah visualisasi dalam bentuk grafik (plot) pada data \"cloth_data\" untuk kolom size dan kolom age"
   ]
  },
  {
   "cell_type": "code",
   "execution_count": 62,
   "metadata": {},
   "outputs": [
    {
     "data": {
      "text/plain": [
       "[<matplotlib.lines.Line2D at 0x1255c3cd6d0>]"
      ]
     },
     "execution_count": 62,
     "metadata": {},
     "output_type": "execute_result"
    },
    {
     "data": {
      "image/png": "[encoded data removed]",
      "text/plain": [
       "<Figure size 432x288 with 1 Axes>"
      ]
     },
     "metadata": {
      "needs_background": "light"
     },
     "output_type": "display_data"
    }
   ],
   "source": [
    "#Latihan(16)\n",
    "#Visualisasi dalam bentuk grafik (plot) pada data \"cloth_data\" untuk kolom size dan kolom age\n",
    "\n",
    "plt.plot(cloth_data['size'],cloth_data['age'])"
   ]
  },
  {
   "cell_type": "markdown",
   "metadata": {},
   "source": [
    "# Latihan (17)\n",
    "\n",
    "Import library seaborn"
   ]
  },
  {
   "cell_type": "code",
   "execution_count": 63,
   "metadata": {},
   "outputs": [],
   "source": [
    "#Latihan(17)\n",
    "#Import library seaborn\n",
    "\n",
    "import seaborn as sns"
   ]
  },
  {
   "cell_type": "markdown",
   "metadata": {},
   "source": [
    "# Latihan (18)\n",
    "\n",
    "Buatlah visualisasi dalam bentuk scatterplot pada data \"cloth_data\" untuk kolom age dan kolom size"
   ]
  },
  {
   "cell_type": "code",
   "execution_count": 68,
   "metadata": {},
   "outputs": [
    {
     "data": {
      "text/plain": [
       "<AxesSubplot:xlabel='age', ylabel='size'>"
      ]
     },
     "execution_count": 68,
     "metadata": {},
     "output_type": "execute_result"
    },
    {
     "data": {
      "image/png": "[encoded data removed]",
      "text/plain": [
       "<Figure size 432x288 with 1 Axes>"
      ]
     },
     "metadata": {
      "needs_background": "light"
     },
     "output_type": "display_data"
    }
   ],
   "source": [
    "#latihan(18)\n",
    "#Buat scatterplot dengan kolom age dan size\n",
    "\n",
    "sns.scatterplot(data=cloth_data , x = 'age',y = 'size')"
   ]
  },
  {
   "cell_type": "markdown",
   "metadata": {},
   "source": [
    "# Latihan (19)\n",
    "\n",
    "Buatlah visualisasi dalam bentuk scatterplot pada data \"cloth_data\" untuk kolom size dan kolom age"
   ]
  },
  {
   "cell_type": "code",
   "execution_count": 69,
   "metadata": {},
   "outputs": [
    {
     "data": {
      "text/plain": [
       "<AxesSubplot:xlabel='size', ylabel='age'>"
      ]
     },
     "execution_count": 69,
     "metadata": {},
     "output_type": "execute_result"
    },
    {
     "data": {
      "image/png": "[encoded data removed]",
      "text/plain": [
       "<Figure size 432x288 with 1 Axes>"
      ]
     },
     "metadata": {
      "needs_background": "light"
     },
     "output_type": "display_data"
    }
   ],
   "source": [
    "#latihan(19)\n",
    "#Buat scatterplot dengan kolom size dan age\n",
    "\n",
    "sns.scatterplot(data=cloth_data , x = 'size',y = 'age')"
   ]
  },
  {
   "cell_type": "markdown",
   "metadata": {},
   "source": [
    "# Latihan (20)\n",
    "\n",
    "Buatlah visualisasi dalam bentuk histogram pada data \"cloth_data\" untuk kolom age"
   ]
  },
  {
   "cell_type": "code",
   "execution_count": 72,
   "metadata": {},
   "outputs": [
    {
     "data": {
      "text/plain": [
       "<AxesSubplot:xlabel='size', ylabel='Count'>"
      ]
     },
     "execution_count": 72,
     "metadata": {},
     "output_type": "execute_result"
    },
    {
     "data": {
      "image/png": "[encoded data removed]",
      "text/plain": [
       "<Figure size 432x288 with 1 Axes>"
      ]
     },
     "metadata": {
      "needs_background": "light"
     },
     "output_type": "display_data"
    }
   ],
   "source": [
    "#Latihan(20)\n",
    "#Buat histogram untuk kolom size\n",
    "\n",
    "sns.histplot(data=cloth_data,x='size')"
   ]
  }
 ],
 "metadata": {
  "kernelspec": {
   "display_name": "Python 3",
   "language": "python",
   "name": "python3"
  },
  "language_info": {
   "codemirror_mode": {
    "name": "ipython",
    "version": 3
   },
   "file_extension": ".py",
   "mimetype": "text/x-python",
   "name": "python",
   "nbconvert_exporter": "python",
   "pygments_lexer": "ipython3",
   "version": "3.10.0"
  }
 },
 "nbformat": 4,
 "nbformat_minor": 4
}
